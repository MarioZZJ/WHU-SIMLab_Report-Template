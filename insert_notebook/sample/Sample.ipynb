{
 "cells": [
  {
   "cell_type": "markdown",
   "id": "falling-studio",
   "metadata": {},
   "source": [
    "# 一级标题\n",
    "\n",
    "## 二级标题\n",
    "\n",
    "这是一段普通文字，如果它足够长，在您的输出部分是有可能会换行的，所以我尽量将这一段普通文字写的足够长，保证它能够多行进行显示，方便展示普通文字换行的效果。\n",
    "\n",
    "这是另一段文字，在markdown中，您可以自由嵌入多种格式：\n",
    "\n",
    "例如正常的**粗体**、*斜体*、<u>下划线</u>\n",
    "\n",
    "代码`code`, `function()`\n",
    "\n",
    "代码块（可指定语言类型，高亮显示）\n",
    "\n",
    "```Python\n",
    "# this is a python code block\n",
    "import numpy as niupi\n",
    "def mian(input)\n",
    "    nb = niupi.array(input)\n",
    "    print('helloworld；')\n",
    "    return 0\n",
    "```\n",
    "\n",
    "1. 有序列表1\n",
    "2. 有序列表2\n",
    "    1. 多级列表1\n",
    "    2. 多级列表2\n",
    "\n",
    "- 无序列表\n",
    "- 无序列表\n",
    "    - 多级无序列表\n",
    "    - 多级无序列表\n",
    "    \n",
    "| 表格 | 列1 | 列2 |\n",
    "| :----: | :---: | :---: |\n",
    "| 行1 | 值1 | 值2 |\n",
    "| 行2 | 值3 | 值4 |\n",
    "\n",
    "[超链接](https://github.com/MarioZZJ)\n",
    "\n",
    "图片![图片](https://www.runoob.com/wp-content/uploads/2019/03/iconfinder_markdown_298823.png)\n",
    "\n",
    "行内公式: $P(A)=\\sum\\limits_i P(A|B_i)P(B_i)$  \n",
    "\n",
    "行间公式\n",
    "$$\n",
    "\\begin{align}\n",
    "\\hat{P}(c)&=\\dfrac{|D_c|+1}{|D|+N} \\tag{tag} \\\\\n",
    "\\hat{P}(x_i,c)&=\\dfrac{|D_{c,x_i}|+1}{|D|+N}\n",
    "\\end{align}\n",
    "$$\n",
    "\n",
    "> 引用文字\n",
    "> \n",
    "> 引用文字内部也可嵌入以上格式如**粗体**。\n",
    "\n",
    "- [ ] checkbox\n",
    "- [x] checkedbox\n",
    "\n",
    "## 代码块及其输出"
   ]
  },
  {
   "cell_type": "code",
   "execution_count": 1,
   "id": "functioning-liquid",
   "metadata": {},
   "outputs": [
    {
     "name": "stdout",
     "output_type": "stream",
     "text": [
      "this is a code cell.\n"
     ]
    }
   ],
   "source": [
    "print(\"this is a code cell.\")"
   ]
  },
  {
   "cell_type": "code",
   "execution_count": 5,
   "id": "juvenile-paper",
   "metadata": {},
   "outputs": [
    {
     "name": "stdout",
     "output_type": "stream",
     "text": [
      "这是超级命令\n",
      "Python 3.6.8\n"
     ]
    }
   ],
   "source": [
    "!echo \"这是超级命令\"\n",
    "!python3 --version"
   ]
  },
  {
   "cell_type": "code",
   "execution_count": 9,
   "id": "harmful-letter",
   "metadata": {},
   "outputs": [
    {
     "data": {
      "text/plain": [
       "array([[0.02805256, 0.09882657],\n",
       "       [0.60132339, 0.9558083 ],\n",
       "       [0.86134656, 0.02160876],\n",
       "       [0.57385892, 0.80213836],\n",
       "       [0.94235629, 0.10020009]])"
      ]
     },
     "execution_count": 9,
     "metadata": {},
     "output_type": "execute_result"
    }
   ],
   "source": [
    "import numpy as np\n",
    "import pandas as pd\n",
    "\n",
    "mat = np.random.rand(5,2)\n",
    "mat"
   ]
  },
  {
   "cell_type": "code",
   "execution_count": 11,
   "id": "certified-founder",
   "metadata": {},
   "outputs": [
    {
     "data": {
      "text/html": [
       "<div>\n",
       "<style scoped>\n",
       "    .dataframe tbody tr th:only-of-type {\n",
       "        vertical-align: middle;\n",
       "    }\n",
       "\n",
       "    .dataframe tbody tr th {\n",
       "        vertical-align: top;\n",
       "    }\n",
       "\n",
       "    .dataframe thead th {\n",
       "        text-align: right;\n",
       "    }\n",
       "</style>\n",
       "<table border=\"1\" class=\"dataframe\">\n",
       "  <thead>\n",
       "    <tr style=\"text-align: right;\">\n",
       "      <th></th>\n",
       "      <th>0</th>\n",
       "      <th>1</th>\n",
       "    </tr>\n",
       "  </thead>\n",
       "  <tbody>\n",
       "    <tr>\n",
       "      <th>0</th>\n",
       "      <td>0.028053</td>\n",
       "      <td>0.098827</td>\n",
       "    </tr>\n",
       "    <tr>\n",
       "      <th>1</th>\n",
       "      <td>0.601323</td>\n",
       "      <td>0.955808</td>\n",
       "    </tr>\n",
       "    <tr>\n",
       "      <th>2</th>\n",
       "      <td>0.861347</td>\n",
       "      <td>0.021609</td>\n",
       "    </tr>\n",
       "    <tr>\n",
       "      <th>3</th>\n",
       "      <td>0.573859</td>\n",
       "      <td>0.802138</td>\n",
       "    </tr>\n",
       "    <tr>\n",
       "      <th>4</th>\n",
       "      <td>0.942356</td>\n",
       "      <td>0.100200</td>\n",
       "    </tr>\n",
       "  </tbody>\n",
       "</table>\n",
       "</div>"
      ],
      "text/plain": [
       "          0         1\n",
       "0  0.028053  0.098827\n",
       "1  0.601323  0.955808\n",
       "2  0.861347  0.021609\n",
       "3  0.573859  0.802138\n",
       "4  0.942356  0.100200"
      ]
     },
     "execution_count": 11,
     "metadata": {},
     "output_type": "execute_result"
    }
   ],
   "source": [
    "df = pd.DataFrame(mat)\n",
    "df"
   ]
  },
  {
   "cell_type": "code",
   "execution_count": 12,
   "id": "instrumental-boards",
   "metadata": {},
   "outputs": [
    {
     "data": {
      "text/plain": [
       "<AxesSubplot:>"
      ]
     },
     "execution_count": 12,
     "metadata": {},
     "output_type": "execute_result"
    },
    {
     "data": {
      "image/png": "[encoded data removed]",
      "text/plain": [
       "<Figure size 432x288 with 1 Axes>"
      ]
     },
     "metadata": {
      "needs_background": "light"
     },
     "output_type": "display_data"
    }
   ],
   "source": [
    "df.plot()"
   ]
  },
  {
   "cell_type": "code",
   "execution_count": 13,
   "id": "inappropriate-facility",
   "metadata": {},
   "outputs": [
    {
     "data": {
      "text/html": [
       "<div>\n",
       "<style scoped>\n",
       "    .dataframe tbody tr th:only-of-type {\n",
       "        vertical-align: middle;\n",
       "    }\n",
       "\n",
       "    .dataframe tbody tr th {\n",
       "        vertical-align: top;\n",
       "    }\n",
       "\n",
       "    .dataframe thead th {\n",
       "        text-align: right;\n",
       "    }\n",
       "</style>\n",
       "<table border=\"1\" class=\"dataframe\">\n",
       "  <thead>\n",
       "    <tr style=\"text-align: right;\">\n",
       "      <th></th>\n",
       "      <th>0</th>\n",
       "      <th>1</th>\n",
       "    </tr>\n",
       "  </thead>\n",
       "  <tbody>\n",
       "    <tr>\n",
       "      <th>0</th>\n",
       "      <td>0.028053</td>\n",
       "      <td>0.098827</td>\n",
       "    </tr>\n",
       "    <tr>\n",
       "      <th>1</th>\n",
       "      <td>0.601323</td>\n",
       "      <td>0.955808</td>\n",
       "    </tr>\n",
       "    <tr>\n",
       "      <th>2</th>\n",
       "      <td>0.861347</td>\n",
       "      <td>0.021609</td>\n",
       "    </tr>\n",
       "    <tr>\n",
       "      <th>3</th>\n",
       "      <td>0.573859</td>\n",
       "      <td>0.802138</td>\n",
       "    </tr>\n",
       "    <tr>\n",
       "      <th>4</th>\n",
       "      <td>0.942356</td>\n",
       "      <td>0.100200</td>\n",
       "    </tr>\n",
       "  </tbody>\n",
       "</table>\n",
       "</div>"
      ],
      "text/latex": [
       "\\begin{tabular}{lrr}\n",
       "\\toprule\n",
       "{} &         0 &         1 \\\\\n",
       "\\midrule\n",
       "0 &  0.028053 &  0.098827 \\\\\n",
       "1 &  0.601323 &  0.955808 \\\\\n",
       "2 &  0.861347 &  0.021609 \\\\\n",
       "3 &  0.573859 &  0.802138 \\\\\n",
       "4 &  0.942356 &  0.100200 \\\\\n",
       "\\bottomrule\n",
       "\\end{tabular}\n"
      ],
      "text/plain": [
       "          0         1\n",
       "0  0.028053  0.098827\n",
       "1  0.601323  0.955808\n",
       "2  0.861347  0.021609\n",
       "3  0.573859  0.802138\n",
       "4  0.942356  0.100200"
      ]
     },
     "execution_count": 13,
     "metadata": {},
     "output_type": "execute_result"
    }
   ],
   "source": [
    "pd.options.display.latex.repr = True\n",
    "# latex表格适配\n",
    "df"
   ]
  }
 ],
 "metadata": {
  "kernelspec": {
   "display_name": "Python 3.6",
   "language": "python",
   "name": "python3"
  },
  "language_info": {
   "codemirror_mode": {
    "name": "ipython",
    "version": 3
   },
   "file_extension": ".py",
   "mimetype": "text/x-python",
   "name": "python",
   "nbconvert_exporter": "python",
   "pygments_lexer": "ipython3",
   "version": "3.6.8"
  },
  "toc": {
   "base_numbering": 1,
   "nav_menu": {},
   "number_sections": true,
   "sideBar": true,
   "skip_h1_title": false,
   "title_cell": "Table of Contents",
   "title_sidebar": "Contents",
   "toc_cell": false,
   "toc_position": {},
   "toc_section_display": true,
   "toc_window_display": false
  }
 },
 "nbformat": 4,
 "nbformat_minor": 5
}
